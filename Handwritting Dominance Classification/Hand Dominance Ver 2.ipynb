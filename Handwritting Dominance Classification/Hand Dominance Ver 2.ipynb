{
 "cells": [
  {
   "cell_type": "markdown",
   "metadata": {},
   "source": [
    "# Import Tools"
   ]
  },
  {
   "cell_type": "code",
   "execution_count": 1,
   "metadata": {},
   "outputs": [],
   "source": [
    "import numpy as np\n",
    "import pandas as pd\n",
    "%matplotlib inline\n",
    "import matplotlib as mpl\n",
    "import matplotlib.pyplot as plt\n",
    "import os\n",
    "import tensorflow as tf\n",
    "from tensorflow import keras"
   ]
  },
  {
   "cell_type": "markdown",
   "metadata": {},
   "source": [
    "# Data Set\n",
    "\n",
    "Data set containing 400 samples of left and right handed people.\n",
    "The ration is 3:1 with the dominant ration being right handed subjects.\n",
    "This has been split into 3 sets:\n",
    "\n",
    "* Train: 260 samples  \n",
    "* Validate: 70 samples \n",
    "* Testing: 70 samples \n"
   ]
  },
  {
   "cell_type": "markdown",
   "metadata": {},
   "source": [
    "# Import Data Files "
   ]
  },
  {
   "cell_type": "code",
   "execution_count": 2,
   "metadata": {},
   "outputs": [],
   "source": [
    "train_dir =r'C:\\Users\\alexc\\Desktop\\data_total\\data_train'\n",
    "validation_dir = r'C:\\Users\\alexc\\Desktop\\data_total\\data_validate'\n",
    "test_dir = r'C:\\Users\\alexc\\Desktop\\data_total\\data_test'"
   ]
  },
  {
   "cell_type": "code",
   "execution_count": 3,
   "metadata": {},
   "outputs": [],
   "source": [
    "from tensorflow.keras.preprocessing.image import ImageDataGenerator"
   ]
  },
  {
   "cell_type": "markdown",
   "metadata": {},
   "source": [
    "# Data Pre-Processing\n",
    "\n",
    "* Read the picture files\n",
    "* Decode the JPEG content to RGB grids of pixels\n",
    "* Convert these into floating point tensors\n",
    "* Rescale the pixel values between 0 - 255 to the [0,1] interval "
   ]
  },
  {
   "cell_type": "markdown",
   "metadata": {},
   "source": [
    "Generating batches of tensor image data "
   ]
  },
  {
   "cell_type": "code",
   "execution_count": 4,
   "metadata": {},
   "outputs": [
    {
     "name": "stdout",
     "output_type": "stream",
     "text": [
      "Found 260 images belonging to 2 classes.\n",
      "Found 70 images belonging to 2 classes.\n"
     ]
    }
   ],
   "source": [
    "train_datagen = ImageDataGenerator(rescale=1./255)\n",
    "validation_datagen = ImageDataGenerator(rescale=1./255)\n",
    "\n",
    "train_generator = train_datagen.flow_from_directory(train_dir, target_size = (150,150), batch_size = 1, class_mode='binary')\n",
    "validation_generator = validation_datagen.flow_from_directory(validation_dir, target_size = (150,150), batch_size = 1, class_mode='binary')"
   ]
  },
  {
   "cell_type": "code",
   "execution_count": 5,
   "metadata": {},
   "outputs": [
    {
     "name": "stdout",
     "output_type": "stream",
     "text": [
      "Found 70 images belonging to 2 classes.\n"
     ]
    }
   ],
   "source": [
    "test_datagen = ImageDataGenerator(rescale=1./255)\n",
    "test_generator = test_datagen.flow_from_directory(test_dir, target_size = (150,150), batch_size = 1, class_mode='binary')"
   ]
  },
  {
   "cell_type": "markdown",
   "metadata": {},
   "source": [
    "# Create Structure"
   ]
  },
  {
   "cell_type": "code",
   "execution_count": 6,
   "metadata": {},
   "outputs": [],
   "source": [
    "from tensorflow.keras import layers\n",
    "from tensorflow.keras import models"
   ]
  },
  {
   "cell_type": "code",
   "execution_count": 7,
   "metadata": {},
   "outputs": [],
   "source": [
    "model = models.Sequential()\n",
    "\n",
    "model.add(layers.Conv2D(32, (3,3), activation = 'relu', input_shape=(150,150,3)))\n",
    "model.add(layers.MaxPooling2D((2,2)))\n",
    "\n",
    "model.add(layers.Conv2D(64, (3,3), activation = 'relu'))\n",
    "model.add(layers.MaxPooling2D((2,2)))\n",
    "\n",
    "model.add(layers.Conv2D(128, (3,3), activation = 'relu'))\n",
    "model.add(layers.MaxPooling2D((2,2)))\n",
    "\n",
    "model.add(layers.Conv2D(128, (3,3), activation = 'relu'))\n",
    "model.add(layers.MaxPooling2D((2,2)))\n",
    "\n",
    "model.add(layers.Flatten())\n",
    "\n",
    "model.add(layers.Dense(512,activation='relu'))\n",
    "model.add(layers.Dense(1,activation='sigmoid'))"
   ]
  },
  {
   "cell_type": "code",
   "execution_count": 8,
   "metadata": {
    "scrolled": true
   },
   "outputs": [
    {
     "name": "stdout",
     "output_type": "stream",
     "text": [
      "Model: \"sequential\"\n",
      "_________________________________________________________________\n",
      "Layer (type)                 Output Shape              Param #   \n",
      "=================================================================\n",
      "conv2d (Conv2D)              (None, 148, 148, 32)      896       \n",
      "_________________________________________________________________\n",
      "max_pooling2d (MaxPooling2D) (None, 74, 74, 32)        0         \n",
      "_________________________________________________________________\n",
      "conv2d_1 (Conv2D)            (None, 72, 72, 64)        18496     \n",
      "_________________________________________________________________\n",
      "max_pooling2d_1 (MaxPooling2 (None, 36, 36, 64)        0         \n",
      "_________________________________________________________________\n",
      "conv2d_2 (Conv2D)            (None, 34, 34, 128)       73856     \n",
      "_________________________________________________________________\n",
      "max_pooling2d_2 (MaxPooling2 (None, 17, 17, 128)       0         \n",
      "_________________________________________________________________\n",
      "conv2d_3 (Conv2D)            (None, 15, 15, 128)       147584    \n",
      "_________________________________________________________________\n",
      "max_pooling2d_3 (MaxPooling2 (None, 7, 7, 128)         0         \n",
      "_________________________________________________________________\n",
      "flatten (Flatten)            (None, 6272)              0         \n",
      "_________________________________________________________________\n",
      "dense (Dense)                (None, 512)               3211776   \n",
      "_________________________________________________________________\n",
      "dense_1 (Dense)              (None, 1)                 513       \n",
      "=================================================================\n",
      "Total params: 3,453,121\n",
      "Trainable params: 3,453,121\n",
      "Non-trainable params: 0\n",
      "_________________________________________________________________\n"
     ]
    }
   ],
   "source": [
    "model.summary()"
   ]
  },
  {
   "cell_type": "markdown",
   "metadata": {},
   "source": [
    "# Compile Our Model"
   ]
  },
  {
   "cell_type": "code",
   "execution_count": 9,
   "metadata": {},
   "outputs": [],
   "source": [
    "from tensorflow.keras import optimizers\n",
    "\n",
    "model.compile(loss='binary_crossentropy', optimizer = optimizers.RMSprop(lr=1e-4),metrics =['acc'])"
   ]
  },
  {
   "cell_type": "markdown",
   "metadata": {},
   "source": [
    "# Best Model Only"
   ]
  },
  {
   "cell_type": "code",
   "execution_count": 10,
   "metadata": {},
   "outputs": [],
   "source": [
    "checkpoint_cb = keras.callbacks.ModelCheckpoint(\"early_modelv2.h5\", save_best_only = True)"
   ]
  },
  {
   "cell_type": "code",
   "execution_count": 11,
   "metadata": {},
   "outputs": [],
   "source": [
    "early_stopping_cb = keras.callbacks.EarlyStopping(patience=10,restore_best_weights=True)"
   ]
  },
  {
   "cell_type": "markdown",
   "metadata": {},
   "source": [
    "# Fit Optimized Model\n",
    "\n",
    "UNEVEN DISTRIBUTION OF CLASSES\n",
    "\n",
    "* fit method : \n",
    "\n",
    "* uneven distrib: we must use class weights to under represented classes and lower to over represented"
   ]
  },
  {
   "cell_type": "markdown",
   "metadata": {},
   "source": [
    "from sklearn.utils import class_weight"
   ]
  },
  {
   "cell_type": "markdown",
   "metadata": {},
   "source": [
    " class_weights = class_weight.compute_class_weight('balanced', np.unique(y_train),y_train)\n",
    " model.fit(X_train, y_train, class_weight=class_weights)                          "
   ]
  },
  {
   "cell_type": "code",
   "execution_count": 12,
   "metadata": {
    "scrolled": true
   },
   "outputs": [
    {
     "name": "stdout",
     "output_type": "stream",
     "text": [
      "WARNING:tensorflow:From <ipython-input-12-3bef5b44dadd>:1: Model.fit_generator (from tensorflow.python.keras.engine.training) is deprecated and will be removed in a future version.\n",
      "Instructions for updating:\n",
      "Please use Model.fit, which supports generators.\n",
      "WARNING:tensorflow:sample_weight modes were coerced from\n",
      "  ...\n",
      "    to  \n",
      "  ['...']\n",
      "WARNING:tensorflow:sample_weight modes were coerced from\n",
      "  ...\n",
      "    to  \n",
      "  ['...']\n",
      "Train for 260 steps, validate for 70 steps\n",
      "Epoch 1/50\n",
      "260/260 [==============================] - 42s 160ms/step - loss: 0.5795 - acc: 0.7615 - val_loss: 0.4603 - val_acc: 0.7143\n",
      "Epoch 2/50\n",
      "260/260 [==============================] - 39s 152ms/step - loss: 0.4349 - acc: 0.8462 - val_loss: 0.3269 - val_acc: 0.9286\n",
      "Epoch 3/50\n",
      "260/260 [==============================] - 39s 152ms/step - loss: 0.3981 - acc: 0.8577 - val_loss: 0.3387 - val_acc: 0.8857\n",
      "Epoch 4/50\n",
      "260/260 [==============================] - 39s 151ms/step - loss: 0.3665 - acc: 0.8769 - val_loss: 0.5322 - val_acc: 0.8429\n",
      "Epoch 5/50\n",
      "260/260 [==============================] - 40s 152ms/step - loss: 0.3870 - acc: 0.8846 - val_loss: 0.2885 - val_acc: 0.8857\n",
      "Epoch 6/50\n",
      "260/260 [==============================] - 39s 152ms/step - loss: 0.3549 - acc: 0.8885 - val_loss: 0.2271 - val_acc: 0.9429\n",
      "Epoch 7/50\n",
      "260/260 [==============================] - 40s 153ms/step - loss: 0.3115 - acc: 0.9038 - val_loss: 0.1315 - val_acc: 0.9571\n",
      "Epoch 8/50\n",
      "260/260 [==============================] - 39s 152ms/step - loss: 0.3373 - acc: 0.8923 - val_loss: 0.2194 - val_acc: 0.9571\n",
      "Epoch 9/50\n",
      "260/260 [==============================] - 40s 152ms/step - loss: 0.2846 - acc: 0.8885 - val_loss: 0.3029 - val_acc: 0.9143\n",
      "Epoch 10/50\n",
      "260/260 [==============================] - 39s 152ms/step - loss: 0.2828 - acc: 0.8923 - val_loss: 0.2387 - val_acc: 0.9286\n",
      "Epoch 11/50\n",
      "260/260 [==============================] - 39s 151ms/step - loss: 0.2542 - acc: 0.9038 - val_loss: 0.1707 - val_acc: 0.9286\n",
      "Epoch 12/50\n",
      "260/260 [==============================] - 39s 152ms/step - loss: 0.2290 - acc: 0.9000 - val_loss: 0.1825 - val_acc: 0.9286\n",
      "Epoch 13/50\n",
      "260/260 [==============================] - 39s 151ms/step - loss: 0.2368 - acc: 0.9231 - val_loss: 0.2652 - val_acc: 0.8429\n",
      "Epoch 14/50\n",
      "260/260 [==============================] - 39s 151ms/step - loss: 0.1992 - acc: 0.9308 - val_loss: 0.2036 - val_acc: 0.9143\n",
      "Epoch 15/50\n",
      "260/260 [==============================] - 39s 151ms/step - loss: 0.1696 - acc: 0.9385 - val_loss: 0.2665 - val_acc: 0.9000\n",
      "Epoch 16/50\n",
      "260/260 [==============================] - 39s 151ms/step - loss: 0.1710 - acc: 0.9500 - val_loss: 0.2417 - val_acc: 0.9143\n",
      "Epoch 17/50\n",
      "260/260 [==============================] - 39s 151ms/step - loss: 0.1433 - acc: 0.9577 - val_loss: 0.2551 - val_acc: 0.9000\n",
      "Epoch 18/50\n",
      "260/260 [==============================] - 39s 151ms/step - loss: 0.1363 - acc: 0.9615 - val_loss: 0.2339 - val_acc: 0.9286\n",
      "Epoch 19/50\n",
      "260/260 [==============================] - 39s 151ms/step - loss: 0.1227 - acc: 0.9577 - val_loss: 0.2811 - val_acc: 0.9286\n",
      "Epoch 20/50\n",
      "260/260 [==============================] - 39s 152ms/step - loss: 0.0650 - acc: 0.9769 - val_loss: 0.2882 - val_acc: 0.9429\n",
      "Epoch 21/50\n",
      "260/260 [==============================] - 40s 152ms/step - loss: 0.0762 - acc: 0.9731 - val_loss: 0.2637 - val_acc: 0.9429\n",
      "Epoch 22/50\n",
      "260/260 [==============================] - 39s 152ms/step - loss: 0.0533 - acc: 0.9808 - val_loss: 0.4678 - val_acc: 0.8571\n",
      "Epoch 23/50\n",
      "260/260 [==============================] - 39s 152ms/step - loss: 0.0434 - acc: 0.9769 - val_loss: 0.4023 - val_acc: 0.9286\n",
      "Epoch 24/50\n",
      "260/260 [==============================] - 39s 152ms/step - loss: 0.0846 - acc: 0.9769 - val_loss: 0.3962 - val_acc: 0.9143\n",
      "Epoch 25/50\n",
      "260/260 [==============================] - 39s 152ms/step - loss: 0.0321 - acc: 0.9923 - val_loss: 0.4897 - val_acc: 0.9286\n",
      "Epoch 26/50\n",
      "260/260 [==============================] - 39s 152ms/step - loss: 0.0212 - acc: 0.9962 - val_loss: 0.6460 - val_acc: 0.9000\n",
      "Epoch 27/50\n",
      "260/260 [==============================] - 39s 152ms/step - loss: 0.0594 - acc: 0.9885 - val_loss: 0.4847 - val_acc: 0.8857\n",
      "Epoch 28/50\n",
      "260/260 [==============================] - 39s 152ms/step - loss: 0.0183 - acc: 0.9923 - val_loss: 0.5796 - val_acc: 0.9286\n",
      "Epoch 29/50\n",
      "260/260 [==============================] - 39s 152ms/step - loss: 0.0123 - acc: 0.9962 - val_loss: 0.6300 - val_acc: 0.9286\n",
      "Epoch 30/50\n",
      "260/260 [==============================] - 40s 153ms/step - loss: 0.0524 - acc: 0.9923 - val_loss: 0.5215 - val_acc: 0.9143\n",
      "Epoch 31/50\n",
      "260/260 [==============================] - 39s 152ms/step - loss: 0.0045 - acc: 1.0000 - val_loss: 1.1823 - val_acc: 0.9143\n",
      "Epoch 32/50\n",
      "260/260 [==============================] - 39s 152ms/step - loss: 0.0198 - acc: 0.9962 - val_loss: 0.7145 - val_acc: 0.9000\n",
      "Epoch 33/50\n",
      "260/260 [==============================] - 39s 152ms/step - loss: 0.0116 - acc: 0.9962 - val_loss: 0.9928 - val_acc: 0.9000\n",
      "Epoch 34/50\n",
      "260/260 [==============================] - 40s 152ms/step - loss: 0.0223 - acc: 0.9962 - val_loss: 0.9847 - val_acc: 0.8714\n",
      "Epoch 35/50\n",
      "260/260 [==============================] - 39s 152ms/step - loss: 0.0012 - acc: 1.0000 - val_loss: 1.3577 - val_acc: 0.9000\n",
      "Epoch 36/50\n",
      "260/260 [==============================] - 39s 152ms/step - loss: 0.0203 - acc: 0.9962 - val_loss: 0.9240 - val_acc: 0.9000\n",
      "Epoch 37/50\n",
      "260/260 [==============================] - 40s 153ms/step - loss: 7.9233e-04 - acc: 1.0000 - val_loss: 1.3072 - val_acc: 0.9000\n",
      "Epoch 38/50\n",
      "260/260 [==============================] - 39s 152ms/step - loss: 7.5486e-04 - acc: 1.0000 - val_loss: 1.0408 - val_acc: 0.9143\n",
      "Epoch 39/50\n",
      "260/260 [==============================] - 39s 152ms/step - loss: 0.0018 - acc: 1.0000 - val_loss: 1.5860 - val_acc: 0.9143\n",
      "Epoch 40/50\n",
      "260/260 [==============================] - 40s 153ms/step - loss: 0.0186 - acc: 0.9962 - val_loss: 1.2316 - val_acc: 0.9143\n",
      "Epoch 41/50\n",
      "260/260 [==============================] - 40s 153ms/step - loss: 7.7019e-04 - acc: 1.0000 - val_loss: 1.3566 - val_acc: 0.8714\n",
      "Epoch 42/50\n",
      "260/260 [==============================] - 40s 152ms/step - loss: 5.1611e-04 - acc: 1.0000 - val_loss: 1.4746 - val_acc: 0.9143\n",
      "Epoch 43/50\n",
      "260/260 [==============================] - 40s 152ms/step - loss: 0.0011 - acc: 1.0000 - val_loss: 1.2209 - val_acc: 0.9000\n",
      "Epoch 44/50\n",
      "260/260 [==============================] - 40s 152ms/step - loss: 2.0778e-04 - acc: 1.0000 - val_loss: 1.1784 - val_acc: 0.9000\n",
      "Epoch 45/50\n",
      "260/260 [==============================] - 40s 152ms/step - loss: 1.9051e-05 - acc: 1.0000 - val_loss: 1.3955 - val_acc: 0.9143\n",
      "Epoch 46/50\n",
      "260/260 [==============================] - 40s 152ms/step - loss: 3.3172e-05 - acc: 1.0000 - val_loss: 1.4640 - val_acc: 0.9143\n",
      "Epoch 47/50\n",
      "260/260 [==============================] - 40s 153ms/step - loss: 4.6329e-05 - acc: 1.0000 - val_loss: 1.5467 - val_acc: 0.9143\n",
      "Epoch 48/50\n",
      "260/260 [==============================] - 40s 152ms/step - loss: 6.8819e-07 - acc: 1.0000 - val_loss: 1.5716 - val_acc: 0.9000\n",
      "Epoch 49/50\n",
      "260/260 [==============================] - 40s 153ms/step - loss: 3.6162e-07 - acc: 1.0000 - val_loss: 1.6728 - val_acc: 0.9000\n",
      "Epoch 50/50\n",
      "260/260 [==============================] - 40s 153ms/step - loss: 8.6585e-09 - acc: 1.0000 - val_loss: 1.6549 - val_acc: 0.9143\n"
     ]
    }
   ],
   "source": [
    "history = model.fit_generator(train_generator, epochs = 50 , validation_data = validation_generator )"
   ]
  },
  {
   "cell_type": "markdown",
   "metadata": {},
   "source": [
    "# Plot Accuracy Values On Graph"
   ]
  },
  {
   "cell_type": "code",
   "execution_count": 13,
   "metadata": {},
   "outputs": [
    {
     "data": {
      "image/png": "[encoded data removed]",
      "text/plain": [
       "<Figure size 720x360 with 1 Axes>"
      ]
     },
     "metadata": {
      "needs_background": "light"
     },
     "output_type": "display_data"
    }
   ],
   "source": [
    "pd.DataFrame(history.history).plot(figsize=(10,5))\n",
    "plt.grid(True)\n",
    "plt.gca().set_ylim(0,1.1)\n",
    "plt.show()"
   ]
  },
  {
   "cell_type": "markdown",
   "metadata": {},
   "source": [
    "model.save(\"V1model.h5\")"
   ]
  },
  {
   "cell_type": "markdown",
   "metadata": {},
   "source": [
    "# Saving and Restoring "
   ]
  },
  {
   "cell_type": "code",
   "execution_count": 14,
   "metadata": {},
   "outputs": [],
   "source": [
    "model.save(\"model_v2.h5\")\n",
    "%pwd\n",
    "del model\n",
    "keras.backend.clear_session()"
   ]
  },
  {
   "cell_type": "code",
   "execution_count": 15,
   "metadata": {},
   "outputs": [
    {
     "name": "stdout",
     "output_type": "stream",
     "text": [
      "Model: \"sequential\"\n",
      "_________________________________________________________________\n",
      "Layer (type)                 Output Shape              Param #   \n",
      "=================================================================\n",
      "conv2d (Conv2D)              (None, 148, 148, 32)      896       \n",
      "_________________________________________________________________\n",
      "max_pooling2d (MaxPooling2D) (None, 74, 74, 32)        0         \n",
      "_________________________________________________________________\n",
      "conv2d_1 (Conv2D)            (None, 72, 72, 64)        18496     \n",
      "_________________________________________________________________\n",
      "max_pooling2d_1 (MaxPooling2 (None, 36, 36, 64)        0         \n",
      "_________________________________________________________________\n",
      "conv2d_2 (Conv2D)            (None, 34, 34, 128)       73856     \n",
      "_________________________________________________________________\n",
      "max_pooling2d_2 (MaxPooling2 (None, 17, 17, 128)       0         \n",
      "_________________________________________________________________\n",
      "conv2d_3 (Conv2D)            (None, 15, 15, 128)       147584    \n",
      "_________________________________________________________________\n",
      "max_pooling2d_3 (MaxPooling2 (None, 7, 7, 128)         0         \n",
      "_________________________________________________________________\n",
      "flatten (Flatten)            (None, 6272)              0         \n",
      "_________________________________________________________________\n",
      "dense (Dense)                (None, 512)               3211776   \n",
      "_________________________________________________________________\n",
      "dense_1 (Dense)              (None, 1)                 513       \n",
      "=================================================================\n",
      "Total params: 3,453,121\n",
      "Trainable params: 3,453,121\n",
      "Non-trainable params: 0\n",
      "_________________________________________________________________\n"
     ]
    }
   ],
   "source": [
    "model = keras.models.load_model(\"model_v2.h5\")\n",
    "model.summary()"
   ]
  },
  {
   "cell_type": "code",
   "execution_count": 16,
   "metadata": {},
   "outputs": [
    {
     "name": "stdout",
     "output_type": "stream",
     "text": [
      "<keras_preprocessing.image.directory_iterator.DirectoryIterator object at 0x000002092DA70B48>\n"
     ]
    }
   ],
   "source": [
    "pred = model.predict(validation_generator )\n",
    "print(validation_generator )"
   ]
  },
  {
   "cell_type": "markdown",
   "metadata": {},
   "source": [
    "# Saving Best Model"
   ]
  },
  {
   "cell_type": "code",
   "execution_count": 17,
   "metadata": {},
   "outputs": [],
   "source": [
    "del model\n",
    "keras.backend.clear_session()\n",
    "\n",
    "checkpoint_cb = keras.callbacks.ModelCheckpoint(\"early_modelv2.h5\", save_best_only = True)\n",
    "early_stopping_cb = keras.callbacks.EarlyStopping(patience=5,restore_best_weights=True)\n"
   ]
  },
  {
   "cell_type": "code",
   "execution_count": 18,
   "metadata": {},
   "outputs": [],
   "source": [
    "model = models.Sequential()\n",
    "\n",
    "model.add(layers.Conv2D(32, (3,3), activation = 'relu', input_shape=(150,150,3)))\n",
    "model.add(layers.MaxPooling2D((2,2)))\n",
    "\n",
    "model.add(layers.Conv2D(64, (3,3), activation = 'relu'))\n",
    "model.add(layers.MaxPooling2D((2,2)))\n",
    "\n",
    "model.add(layers.Conv2D(128, (3,3), activation = 'relu'))\n",
    "model.add(layers.MaxPooling2D((2,2)))\n",
    "\n",
    "model.add(layers.Conv2D(128, (3,3), activation = 'relu'))\n",
    "model.add(layers.MaxPooling2D((2,2)))\n",
    "\n",
    "model.add(layers.Flatten())\n",
    "\n",
    "model.add(layers.Dense(512,activation='relu'))\n",
    "model.add(layers.Dense(1,activation='sigmoid'))"
   ]
  },
  {
   "cell_type": "code",
   "execution_count": 19,
   "metadata": {},
   "outputs": [],
   "source": [
    "model.compile(loss='binary_crossentropy', optimizer = optimizers.RMSprop(lr=1e-4),metrics =['acc'])"
   ]
  },
  {
   "cell_type": "code",
   "execution_count": 20,
   "metadata": {},
   "outputs": [
    {
     "name": "stdout",
     "output_type": "stream",
     "text": [
      "WARNING:tensorflow:sample_weight modes were coerced from\n",
      "  ...\n",
      "    to  \n",
      "  ['...']\n",
      "WARNING:tensorflow:sample_weight modes were coerced from\n",
      "  ...\n",
      "    to  \n",
      "  ['...']\n",
      "Train for 260 steps, validate for 70 steps\n",
      "Epoch 1/100\n",
      "260/260 [==============================] - 42s 161ms/step - loss: 0.5225 - acc: 0.7808 - val_loss: 0.2813 - val_acc: 0.9286\n",
      "Epoch 2/100\n",
      "260/260 [==============================] - 40s 152ms/step - loss: 0.4160 - acc: 0.8615 - val_loss: 0.1627 - val_acc: 0.9143\n",
      "Epoch 3/100\n",
      "260/260 [==============================] - 40s 153ms/step - loss: 0.3960 - acc: 0.8769 - val_loss: 0.2037 - val_acc: 0.9143\n",
      "Epoch 4/100\n",
      "260/260 [==============================] - 40s 152ms/step - loss: 0.3886 - acc: 0.8808 - val_loss: 0.2154 - val_acc: 0.9286\n",
      "Epoch 5/100\n",
      "260/260 [==============================] - 40s 154ms/step - loss: 0.3584 - acc: 0.8808 - val_loss: 0.1343 - val_acc: 0.9714\n",
      "Epoch 6/100\n",
      "260/260 [==============================] - 40s 152ms/step - loss: 0.3231 - acc: 0.8923 - val_loss: 0.1656 - val_acc: 0.9429\n",
      "Epoch 7/100\n",
      "260/260 [==============================] - 40s 152ms/step - loss: 0.3183 - acc: 0.9038 - val_loss: 0.1731 - val_acc: 0.9429\n",
      "Epoch 8/100\n",
      "260/260 [==============================] - 40s 152ms/step - loss: 0.2735 - acc: 0.8923 - val_loss: 0.4478 - val_acc: 0.9143\n",
      "Epoch 9/100\n",
      "260/260 [==============================] - 40s 153ms/step - loss: 0.3110 - acc: 0.9038 - val_loss: 0.1199 - val_acc: 0.9571\n",
      "Epoch 10/100\n",
      "260/260 [==============================] - 40s 152ms/step - loss: 0.2608 - acc: 0.9115 - val_loss: 0.1304 - val_acc: 0.9429\n",
      "Epoch 11/100\n",
      "260/260 [==============================] - 40s 153ms/step - loss: 0.2510 - acc: 0.9269 - val_loss: 0.2214 - val_acc: 0.9286\n",
      "Epoch 12/100\n",
      "260/260 [==============================] - 40s 153ms/step - loss: 0.2060 - acc: 0.9423 - val_loss: 0.1557 - val_acc: 0.9429\n",
      "Epoch 13/100\n",
      "260/260 [==============================] - 40s 153ms/step - loss: 0.1962 - acc: 0.9115 - val_loss: 0.1780 - val_acc: 0.9286\n",
      "Epoch 14/100\n",
      "260/260 [==============================] - 40s 153ms/step - loss: 0.1716 - acc: 0.9462 - val_loss: 0.2194 - val_acc: 0.9286\n",
      "Epoch 15/100\n",
      "260/260 [==============================] - 40s 153ms/step - loss: 0.1531 - acc: 0.9385 - val_loss: 0.1807 - val_acc: 0.9286\n",
      "Epoch 16/100\n",
      "260/260 [==============================] - 40s 152ms/step - loss: 0.1370 - acc: 0.9462 - val_loss: 0.2090 - val_acc: 0.9429\n",
      "Epoch 17/100\n",
      "260/260 [==============================] - 40s 153ms/step - loss: 0.1162 - acc: 0.9462 - val_loss: 0.2382 - val_acc: 0.9286\n",
      "Epoch 18/100\n",
      "260/260 [==============================] - 40s 153ms/step - loss: 0.0975 - acc: 0.9769 - val_loss: 0.2199 - val_acc: 0.9286\n",
      "Epoch 19/100\n",
      "260/260 [==============================] - 40s 153ms/step - loss: 0.0777 - acc: 0.9692 - val_loss: 0.2171 - val_acc: 0.9429\n",
      "Epoch 20/100\n",
      "260/260 [==============================] - 40s 153ms/step - loss: 0.0561 - acc: 0.9769 - val_loss: 0.4774 - val_acc: 0.9000\n",
      "Epoch 21/100\n",
      "260/260 [==============================] - 40s 153ms/step - loss: 0.0714 - acc: 0.9769 - val_loss: 0.4000 - val_acc: 0.9000\n",
      "Epoch 22/100\n",
      "260/260 [==============================] - 40s 153ms/step - loss: 0.0598 - acc: 0.9808 - val_loss: 0.4272 - val_acc: 0.9000\n",
      "Epoch 23/100\n",
      "260/260 [==============================] - 40s 152ms/step - loss: 0.0592 - acc: 0.9846 - val_loss: 0.5369 - val_acc: 0.9286\n",
      "Epoch 24/100\n",
      "260/260 [==============================] - 40s 153ms/step - loss: 0.0318 - acc: 0.9885 - val_loss: 0.6160 - val_acc: 0.9000\n",
      "Epoch 25/100\n",
      "260/260 [==============================] - 40s 153ms/step - loss: 0.0356 - acc: 0.9846 - val_loss: 0.5982 - val_acc: 0.9000\n",
      "Epoch 26/100\n",
      "260/260 [==============================] - 40s 154ms/step - loss: 0.0091 - acc: 0.9962 - val_loss: 0.5476 - val_acc: 0.9000\n",
      "Epoch 27/100\n",
      "260/260 [==============================] - 40s 153ms/step - loss: 0.0351 - acc: 0.9846 - val_loss: 0.5080 - val_acc: 0.9000\n",
      "Epoch 28/100\n",
      "260/260 [==============================] - 40s 153ms/step - loss: 0.0221 - acc: 0.9923 - val_loss: 0.5085 - val_acc: 0.9286\n",
      "Epoch 29/100\n",
      "260/260 [==============================] - 40s 152ms/step - loss: 0.0229 - acc: 0.9885 - val_loss: 0.5464 - val_acc: 0.9143\n",
      "Epoch 30/100\n",
      "260/260 [==============================] - 40s 153ms/step - loss: 0.0165 - acc: 0.9923 - val_loss: 0.5707 - val_acc: 0.9429\n",
      "Epoch 31/100\n",
      "260/260 [==============================] - 40s 153ms/step - loss: 0.0046 - acc: 0.9962 - val_loss: 0.7836 - val_acc: 0.9143\n",
      "Epoch 32/100\n",
      "260/260 [==============================] - 40s 153ms/step - loss: 0.0013 - acc: 1.0000 - val_loss: 0.7872 - val_acc: 0.9286\n",
      "Epoch 33/100\n",
      "260/260 [==============================] - 40s 153ms/step - loss: 0.0058 - acc: 0.9962 - val_loss: 0.7419 - val_acc: 0.9429\n",
      "Epoch 34/100\n",
      "260/260 [==============================] - 40s 153ms/step - loss: 0.0048 - acc: 0.9962 - val_loss: 0.8277 - val_acc: 0.9286\n",
      "Epoch 35/100\n",
      "260/260 [==============================] - 40s 153ms/step - loss: 0.0154 - acc: 0.9962 - val_loss: 0.9640 - val_acc: 0.9000\n",
      "Epoch 36/100\n",
      "260/260 [==============================] - 40s 153ms/step - loss: 0.0089 - acc: 0.9962 - val_loss: 1.0690 - val_acc: 0.9429\n",
      "Epoch 37/100\n",
      "260/260 [==============================] - 40s 153ms/step - loss: 0.0260 - acc: 0.9923 - val_loss: 0.9800 - val_acc: 0.9286\n",
      "Epoch 38/100\n",
      "260/260 [==============================] - 40s 154ms/step - loss: 0.0033 - acc: 1.0000 - val_loss: 1.0509 - val_acc: 0.9286\n",
      "Epoch 39/100\n",
      "260/260 [==============================] - 40s 153ms/step - loss: 0.0056 - acc: 0.9962 - val_loss: 0.9996 - val_acc: 0.9143\n",
      "Epoch 40/100\n",
      "260/260 [==============================] - 40s 154ms/step - loss: 8.2031e-04 - acc: 1.0000 - val_loss: 0.9727 - val_acc: 0.9429\n",
      "Epoch 41/100\n",
      "260/260 [==============================] - 40s 153ms/step - loss: 3.4071e-04 - acc: 1.0000 - val_loss: 1.1294 - val_acc: 0.9286\n",
      "Epoch 42/100\n",
      "260/260 [==============================] - 40s 153ms/step - loss: 0.0032 - acc: 0.9962 - val_loss: 1.0809 - val_acc: 0.9286\n",
      "Epoch 43/100\n",
      "260/260 [==============================] - 40s 153ms/step - loss: 0.0206 - acc: 0.9962 - val_loss: 1.0403 - val_acc: 0.9286\n",
      "Epoch 44/100\n",
      "260/260 [==============================] - 40s 154ms/step - loss: 0.0140 - acc: 0.9962 - val_loss: 1.4653 - val_acc: 0.9000\n",
      "Epoch 45/100\n",
      "260/260 [==============================] - 40s 153ms/step - loss: 8.1032e-04 - acc: 1.0000 - val_loss: 1.0365 - val_acc: 0.9429\n",
      "Epoch 46/100\n",
      "260/260 [==============================] - 40s 154ms/step - loss: 7.3332e-06 - acc: 1.0000 - val_loss: 1.3962 - val_acc: 0.9286\n",
      "Epoch 47/100\n",
      "260/260 [==============================] - 40s 153ms/step - loss: 4.0281e-04 - acc: 1.0000 - val_loss: 1.2154 - val_acc: 0.9429\n",
      "Epoch 48/100\n",
      "260/260 [==============================] - 40s 154ms/step - loss: 1.5060e-04 - acc: 1.0000 - val_loss: 1.2973 - val_acc: 0.9286\n",
      "Epoch 49/100\n",
      "260/260 [==============================] - 40s 154ms/step - loss: 3.1879e-05 - acc: 1.0000 - val_loss: 1.6297 - val_acc: 0.9143\n",
      "Epoch 50/100\n",
      "260/260 [==============================] - 40s 154ms/step - loss: 8.8232e-05 - acc: 1.0000 - val_loss: 1.2039 - val_acc: 0.9429\n",
      "Epoch 51/100\n",
      "260/260 [==============================] - 40s 153ms/step - loss: 4.1900e-07 - acc: 1.0000 - val_loss: 1.1215 - val_acc: 0.9429\n",
      "Epoch 52/100\n",
      "260/260 [==============================] - 40s 154ms/step - loss: 2.3780e-07 - acc: 1.0000 - val_loss: 1.4411 - val_acc: 0.9429\n",
      "Epoch 53/100\n",
      "260/260 [==============================] - 40s 153ms/step - loss: 1.6380e-09 - acc: 1.0000 - val_loss: 1.5497 - val_acc: 0.9429\n",
      "Epoch 54/100\n",
      "260/260 [==============================] - 40s 154ms/step - loss: 1.4472e-09 - acc: 1.0000 - val_loss: 1.4683 - val_acc: 0.9429\n",
      "Epoch 55/100\n",
      "260/260 [==============================] - 40s 154ms/step - loss: 1.0340e-06 - acc: 1.0000 - val_loss: 1.6695 - val_acc: 0.9286\n",
      "Epoch 56/100\n",
      "260/260 [==============================] - 40s 154ms/step - loss: 1.9252e-09 - acc: 1.0000 - val_loss: 1.6613 - val_acc: 0.9286\n",
      "Epoch 57/100\n",
      "260/260 [==============================] - 40s 153ms/step - loss: 1.9513e-09 - acc: 1.0000 - val_loss: 1.6507 - val_acc: 0.9429\n",
      "Epoch 58/100\n",
      "260/260 [==============================] - 40s 155ms/step - loss: 1.2036e-09 - acc: 1.0000 - val_loss: 1.6485 - val_acc: 0.9286\n",
      "Epoch 59/100\n",
      "260/260 [==============================] - 40s 153ms/step - loss: 5.5950e-10 - acc: 1.0000 - val_loss: 1.6626 - val_acc: 0.9286\n",
      "Epoch 60/100\n",
      "260/260 [==============================] - 40s 153ms/step - loss: 6.3074e-10 - acc: 1.0000 - val_loss: 1.6744 - val_acc: 0.9286\n",
      "Epoch 61/100\n",
      "260/260 [==============================] - 40s 153ms/step - loss: 7.5103e-10 - acc: 1.0000 - val_loss: 1.6847 - val_acc: 0.9286\n",
      "Epoch 62/100\n",
      "260/260 [==============================] - 40s 154ms/step - loss: 8.3004e-10 - acc: 1.0000 - val_loss: 1.6934 - val_acc: 0.9286\n",
      "Epoch 63/100\n",
      "260/260 [==============================] - 40s 153ms/step - loss: 9.5746e-10 - acc: 1.0000 - val_loss: 1.7013 - val_acc: 0.9286\n",
      "Epoch 64/100\n",
      "260/260 [==============================] - 40s 154ms/step - loss: 1.0605e-09 - acc: 1.0000 - val_loss: 1.7083 - val_acc: 0.9286\n",
      "Epoch 65/100\n",
      "260/260 [==============================] - 40s 153ms/step - loss: 1.1797e-09 - acc: 1.0000 - val_loss: 1.7145 - val_acc: 0.9286\n",
      "Epoch 66/100\n",
      "260/260 [==============================] - 40s 154ms/step - loss: 1.1735e-09 - acc: 1.0000 - val_loss: 1.5806 - val_acc: 0.9429\n",
      "Epoch 67/100\n",
      "260/260 [==============================] - 40s 153ms/step - loss: 1.8342e-10 - acc: 1.0000 - val_loss: 1.6700 - val_acc: 0.9429\n",
      "Epoch 68/100\n",
      "260/260 [==============================] - 40s 153ms/step - loss: 1.9340e-10 - acc: 1.0000 - val_loss: 1.6857 - val_acc: 0.9429\n",
      "Epoch 69/100\n",
      "260/260 [==============================] - 40s 153ms/step - loss: 2.2733e-10 - acc: 1.0000 - val_loss: 1.6968 - val_acc: 0.9429\n",
      "Epoch 70/100\n",
      "260/260 [==============================] - 40s 153ms/step - loss: 2.7234e-10 - acc: 1.0000 - val_loss: 1.7056 - val_acc: 0.9429\n",
      "Epoch 71/100\n",
      "260/260 [==============================] - 40s 153ms/step - loss: 3.1382e-10 - acc: 1.0000 - val_loss: 1.7131 - val_acc: 0.9429\n",
      "Epoch 72/100\n",
      "260/260 [==============================] - 40s 154ms/step - loss: 3.2209e-10 - acc: 1.0000 - val_loss: 1.7199 - val_acc: 0.9429\n",
      "Epoch 73/100\n",
      "260/260 [==============================] - 40s 153ms/step - loss: 3.7835e-10 - acc: 1.0000 - val_loss: 1.7259 - val_acc: 0.9429\n",
      "Epoch 74/100\n",
      "260/260 [==============================] - 40s 153ms/step - loss: 4.0880e-10 - acc: 1.0000 - val_loss: 1.7316 - val_acc: 0.9429\n",
      "Epoch 75/100\n",
      "260/260 [==============================] - 40s 153ms/step - loss: 4.5812e-10 - acc: 1.0000 - val_loss: 1.7366 - val_acc: 0.9429\n",
      "Epoch 76/100\n",
      "260/260 [==============================] - 40s 153ms/step - loss: 4.8441e-10 - acc: 1.0000 - val_loss: 1.7412 - val_acc: 0.9286\n",
      "Epoch 77/100\n",
      "260/260 [==============================] - 40s 153ms/step - loss: 5.1947e-10 - acc: 1.0000 - val_loss: 1.7456 - val_acc: 0.9286\n",
      "Epoch 78/100\n",
      "260/260 [==============================] - 40s 154ms/step - loss: 5.5377e-10 - acc: 1.0000 - val_loss: 1.7498 - val_acc: 0.9286\n",
      "Epoch 79/100\n",
      "260/260 [==============================] - 40s 153ms/step - loss: 5.9213e-10 - acc: 1.0000 - val_loss: 1.7538 - val_acc: 0.9286\n",
      "Epoch 80/100\n",
      "260/260 [==============================] - 40s 153ms/step - loss: 6.2573e-10 - acc: 1.0000 - val_loss: 1.7576 - val_acc: 0.9286\n",
      "Epoch 81/100\n",
      "260/260 [==============================] - 40s 153ms/step - loss: 6.5876e-10 - acc: 1.0000 - val_loss: 1.7611 - val_acc: 0.9286\n",
      "Epoch 82/100\n",
      "260/260 [==============================] - 40s 154ms/step - loss: 6.8275e-10 - acc: 1.0000 - val_loss: 1.7645 - val_acc: 0.9286\n",
      "Epoch 83/100\n",
      "260/260 [==============================] - 40s 153ms/step - loss: 7.1643e-10 - acc: 1.0000 - val_loss: 1.7678 - val_acc: 0.9286\n",
      "Epoch 84/100\n",
      "260/260 [==============================] - 40s 153ms/step - loss: 7.6158e-10 - acc: 1.0000 - val_loss: 1.7709 - val_acc: 0.9286\n",
      "Epoch 85/100\n",
      "260/260 [==============================] - 40s 153ms/step - loss: 7.7710e-10 - acc: 1.0000 - val_loss: 1.7739 - val_acc: 0.9286\n",
      "Epoch 86/100\n",
      "260/260 [==============================] - 40s 153ms/step - loss: 6.7628e-10 - acc: 1.0000 - val_loss: 1.7083 - val_acc: 0.9429\n",
      "Epoch 87/100\n",
      "260/260 [==============================] - 40s 153ms/step - loss: 1.2498e-10 - acc: 1.0000 - val_loss: 1.7262 - val_acc: 0.9429\n",
      "Epoch 88/100\n",
      "260/260 [==============================] - 40s 153ms/step - loss: 1.3697e-10 - acc: 1.0000 - val_loss: 1.7387 - val_acc: 0.9429\n",
      "Epoch 89/100\n",
      "260/260 [==============================] - 40s 154ms/step - loss: 1.6450e-10 - acc: 1.0000 - val_loss: 1.7480 - val_acc: 0.9429\n",
      "Epoch 90/100\n",
      "260/260 [==============================] - 40s 153ms/step - loss: 1.9259e-10 - acc: 1.0000 - val_loss: 1.7556 - val_acc: 0.9429\n",
      "Epoch 91/100\n",
      "260/260 [==============================] - 40s 154ms/step - loss: 2.1294e-10 - acc: 1.0000 - val_loss: 1.7620 - val_acc: 0.9429\n",
      "Epoch 92/100\n",
      "260/260 [==============================] - 40s 153ms/step - loss: 2.3688e-10 - acc: 1.0000 - val_loss: 1.7676 - val_acc: 0.9286\n",
      "Epoch 93/100\n",
      "260/260 [==============================] - 40s 154ms/step - loss: 2.6049e-10 - acc: 1.0000 - val_loss: 1.7726 - val_acc: 0.9286\n",
      "Epoch 94/100\n",
      "260/260 [==============================] - 40s 155ms/step - loss: 2.8211e-10 - acc: 1.0000 - val_loss: 1.7773 - val_acc: 0.9286\n",
      "Epoch 95/100\n",
      "260/260 [==============================] - 40s 154ms/step - loss: 3.0606e-10 - acc: 1.0000 - val_loss: 1.7815 - val_acc: 0.9286\n",
      "Epoch 96/100\n",
      "260/260 [==============================] - 40s 154ms/step - loss: 3.2747e-10 - acc: 1.0000 - val_loss: 1.7856 - val_acc: 0.9286\n",
      "Epoch 97/100\n",
      "260/260 [==============================] - 40s 153ms/step - loss: 3.5216e-10 - acc: 1.0000 - val_loss: 1.7894 - val_acc: 0.9286\n",
      "Epoch 98/100\n",
      "260/260 [==============================] - 40s 153ms/step - loss: 3.7411e-10 - acc: 1.0000 - val_loss: 1.7929 - val_acc: 0.9286\n",
      "Epoch 99/100\n",
      "260/260 [==============================] - 40s 154ms/step - loss: 3.9671e-10 - acc: 1.0000 - val_loss: 1.7962 - val_acc: 0.9286\n",
      "Epoch 100/100\n",
      "260/260 [==============================] - 40s 154ms/step - loss: 4.2177e-10 - acc: 1.0000 - val_loss: 1.7993 - val_acc: 0.9286\n"
     ]
    }
   ],
   "source": [
    "history = model.fit_generator(train_generator, epochs = 100 , validation_data = validation_generator,callbacks = [checkpoint_cb] )"
   ]
  },
  {
   "cell_type": "code",
   "execution_count": 21,
   "metadata": {},
   "outputs": [
    {
     "name": "stdout",
     "output_type": "stream",
     "text": [
      "WARNING:tensorflow:sample_weight modes were coerced from\n",
      "  ...\n",
      "    to  \n",
      "  ['...']\n",
      "70/70 [==============================] - 2s 28ms/step - loss: 0.1199 - acc: 0.9571\n"
     ]
    }
   ],
   "source": [
    "model = keras.models.load_model(\"early_modelv2.h5\")\n",
    "mse_test = model.evaluate(validation_generator)"
   ]
  },
  {
   "cell_type": "code",
   "execution_count": null,
   "metadata": {},
   "outputs": [],
   "source": []
  }
 ],
 "metadata": {
  "kernelspec": {
   "display_name": "Python 3",
   "language": "python",
   "name": "python3"
  },
  "language_info": {
   "codemirror_mode": {
    "name": "ipython",
    "version": 3
   },
   "file_extension": ".py",
   "mimetype": "text/x-python",
   "name": "python",
   "nbconvert_exporter": "python",
   "pygments_lexer": "ipython3",
   "version": "3.7.4"
  }
 },
 "nbformat": 4,
 "nbformat_minor": 2
}
