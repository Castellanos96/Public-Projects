{
 "cells": [
  {
   "cell_type": "markdown",
   "metadata": {},
   "source": [
    "# Import Tools"
   ]
  },
  {
   "cell_type": "code",
   "execution_count": 1,
   "metadata": {},
   "outputs": [],
   "source": [
    "import numpy as np\n",
    "import pandas as pd\n",
    "%matplotlib inline\n",
    "import matplotlib as mpl\n",
    "import matplotlib.pyplot as plt\n",
    "import os\n",
    "import tensorflow as tf\n",
    "from tensorflow import keras"
   ]
  },
  {
   "cell_type": "markdown",
   "metadata": {},
   "source": [
    "# Data Set\n",
    "\n",
    "Data set containing 400 samples of left and right handed people.\n",
    "The ration is 3:1 with the dominant ration being right handed subjects.\n",
    "This has been split into 3 sets:\n",
    "\n",
    "* Train: 260 samples  \n",
    "* Validate: 70 samples \n",
    "* Testing: 70 samples \n"
   ]
  },
  {
   "cell_type": "markdown",
   "metadata": {},
   "source": [
    "# Import Data Files "
   ]
  },
  {
   "cell_type": "code",
   "execution_count": 2,
   "metadata": {},
   "outputs": [],
   "source": [
    "train_dir =r'C:\\Users\\alexc\\Desktop\\data_total\\data_train'\n",
    "validation_dir = r'C:\\Users\\alexc\\Desktop\\data_total\\data_validate'\n",
    "test_dir = r'C:\\Users\\alexc\\Desktop\\data_total\\data_test'"
   ]
  },
  {
   "cell_type": "code",
   "execution_count": 3,
   "metadata": {},
   "outputs": [],
   "source": [
    "from tensorflow.keras.preprocessing.image import ImageDataGenerator"
   ]
  },
  {
   "cell_type": "markdown",
   "metadata": {},
   "source": [
    "# Data Pre-Processing\n",
    "\n",
    "* Read the picture files\n",
    "* Decode the JPEG content to RGB grids of pixels\n",
    "* Convert these into floating point tensors\n",
    "* Rescale the pixel values between 0 - 255 to the [0,1] interval "
   ]
  },
  {
   "cell_type": "markdown",
   "metadata": {},
   "source": [
    "Generating batches of tensor image data "
   ]
  },
  {
   "cell_type": "code",
   "execution_count": 4,
   "metadata": {},
   "outputs": [
    {
     "name": "stdout",
     "output_type": "stream",
     "text": [
      "Found 260 images belonging to 2 classes.\n",
      "Found 70 images belonging to 2 classes.\n"
     ]
    }
   ],
   "source": [
    "train_datagen = ImageDataGenerator(rescale=1./255)\n",
    "validation_datagen = ImageDataGenerator(rescale=1./255)\n",
    "\n",
    "train_generator = train_datagen.flow_from_directory(train_dir, target_size = (150,150), batch_size = 1, class_mode='binary')\n",
    "validation_generator = validation_datagen.flow_from_directory(validation_dir, target_size = (150,150), batch_size = 1, class_mode='binary')"
   ]
  },
  {
   "cell_type": "code",
   "execution_count": 5,
   "metadata": {},
   "outputs": [
    {
     "name": "stdout",
     "output_type": "stream",
     "text": [
      "Found 70 images belonging to 2 classes.\n"
     ]
    }
   ],
   "source": [
    "test_datagen = ImageDataGenerator(rescale=1./255)\n",
    "test_generator = test_datagen.flow_from_directory(test_dir, target_size = (150,150), batch_size = 1, class_mode='binary')"
   ]
  },
  {
   "cell_type": "markdown",
   "metadata": {},
   "source": [
    "# Create Structure"
   ]
  },
  {
   "cell_type": "code",
   "execution_count": 6,
   "metadata": {},
   "outputs": [],
   "source": [
    "from tensorflow.keras import layers\n",
    "from tensorflow.keras import models"
   ]
  },
  {
   "cell_type": "code",
   "execution_count": 7,
   "metadata": {},
   "outputs": [],
   "source": [
    "model = models.Sequential()\n",
    "\n",
    "model.add(layers.Conv2D(32, (3,3), activation = 'relu', input_shape=(150,150,3)))\n",
    "model.add(layers.MaxPooling2D((2,2)))\n",
    "\n",
    "model.add(layers.Conv2D(64, (3,3), activation = 'relu'))\n",
    "model.add(layers.MaxPooling2D((2,2)))\n",
    "\n",
    "model.add(layers.Conv2D(128, (3,3), activation = 'relu'))\n",
    "model.add(layers.MaxPooling2D((2,2)))\n",
    "\n",
    "model.add(layers.Conv2D(128, (3,3), activation = 'relu'))\n",
    "model.add(layers.MaxPooling2D((2,2)))\n",
    "\n",
    "model.add(layers.Flatten())\n",
    "\n",
    "model.add(layers.Dense(512,activation='relu'))\n",
    "model.add(layers.Dense(1,activation='sigmoid'))"
   ]
  },
  {
   "cell_type": "code",
   "execution_count": 8,
   "metadata": {},
   "outputs": [
    {
     "name": "stdout",
     "output_type": "stream",
     "text": [
      "Model: \"sequential\"\n",
      "_________________________________________________________________\n",
      "Layer (type)                 Output Shape              Param #   \n",
      "=================================================================\n",
      "conv2d (Conv2D)              (None, 148, 148, 32)      896       \n",
      "_________________________________________________________________\n",
      "max_pooling2d (MaxPooling2D) (None, 74, 74, 32)        0         \n",
      "_________________________________________________________________\n",
      "conv2d_1 (Conv2D)            (None, 72, 72, 64)        18496     \n",
      "_________________________________________________________________\n",
      "max_pooling2d_1 (MaxPooling2 (None, 36, 36, 64)        0         \n",
      "_________________________________________________________________\n",
      "conv2d_2 (Conv2D)            (None, 34, 34, 128)       73856     \n",
      "_________________________________________________________________\n",
      "max_pooling2d_2 (MaxPooling2 (None, 17, 17, 128)       0         \n",
      "_________________________________________________________________\n",
      "conv2d_3 (Conv2D)            (None, 15, 15, 128)       147584    \n",
      "_________________________________________________________________\n",
      "max_pooling2d_3 (MaxPooling2 (None, 7, 7, 128)         0         \n",
      "_________________________________________________________________\n",
      "flatten (Flatten)            (None, 6272)              0         \n",
      "_________________________________________________________________\n",
      "dense (Dense)                (None, 512)               3211776   \n",
      "_________________________________________________________________\n",
      "dense_1 (Dense)              (None, 1)                 513       \n",
      "=================================================================\n",
      "Total params: 3,453,121\n",
      "Trainable params: 3,453,121\n",
      "Non-trainable params: 0\n",
      "_________________________________________________________________\n"
     ]
    }
   ],
   "source": [
    "model.summary()"
   ]
  },
  {
   "cell_type": "markdown",
   "metadata": {},
   "source": [
    "# Compile Our Model"
   ]
  },
  {
   "cell_type": "code",
   "execution_count": 9,
   "metadata": {},
   "outputs": [],
   "source": [
    "from tensorflow.keras import optimizers\n",
    "\n",
    "model.compile(loss='mean_squared_error', optimizer = optimizers.RMSprop(lr=1e-4),metrics =['acc'])"
   ]
  },
  {
   "cell_type": "markdown",
   "metadata": {},
   "source": [
    "# Best Model Only"
   ]
  },
  {
   "cell_type": "code",
   "execution_count": 10,
   "metadata": {},
   "outputs": [],
   "source": [
    "checkpoint_cb = keras.callbacks.ModelCheckpoint(\"early_model.h5\", save_best_only = True)"
   ]
  },
  {
   "cell_type": "code",
   "execution_count": 11,
   "metadata": {},
   "outputs": [],
   "source": [
    "early_stopping_cb = keras.callbacks.EarlyStopping(patience=10,restore_best_weights=True)"
   ]
  },
  {
   "cell_type": "markdown",
   "metadata": {},
   "source": [
    "# Fit Optimized Model\n",
    "\n",
    "UNEVEN DISTRIBUTION OF CLASSES\n",
    "\n",
    "* fit method : \n",
    "\n",
    "* uneven distrib: we must use class weights to under represented classes and lower to over represented"
   ]
  },
  {
   "cell_type": "markdown",
   "metadata": {},
   "source": [
    "from sklearn.utils import class_weight"
   ]
  },
  {
   "cell_type": "markdown",
   "metadata": {},
   "source": [
    " class_weights = class_weight.compute_class_weight('balanced', np.unique(y_train),y_train)\n",
    " model.fit(X_train, y_train, class_weight=class_weights)                          "
   ]
  },
  {
   "cell_type": "code",
   "execution_count": 12,
   "metadata": {
    "scrolled": false
   },
   "outputs": [
    {
     "name": "stdout",
     "output_type": "stream",
     "text": [
      "WARNING:tensorflow:From <ipython-input-12-3bef5b44dadd>:1: Model.fit_generator (from tensorflow.python.keras.engine.training) is deprecated and will be removed in a future version.\n",
      "Instructions for updating:\n",
      "Please use Model.fit, which supports generators.\n",
      "WARNING:tensorflow:sample_weight modes were coerced from\n",
      "  ...\n",
      "    to  \n",
      "  ['...']\n",
      "WARNING:tensorflow:sample_weight modes were coerced from\n",
      "  ...\n",
      "    to  \n",
      "  ['...']\n",
      "Train for 260 steps, validate for 70 steps\n",
      "Epoch 1/50\n",
      "260/260 [==============================] - 41s 159ms/step - loss: 0.1869 - acc: 0.7654 - val_loss: 0.1879 - val_acc: 0.7143\n",
      "Epoch 2/50\n",
      "260/260 [==============================] - 39s 152ms/step - loss: 0.1236 - acc: 0.8577 - val_loss: 0.1061 - val_acc: 0.9143\n",
      "Epoch 3/50\n",
      "260/260 [==============================] - 40s 152ms/step - loss: 0.1098 - acc: 0.8769 - val_loss: 0.0451 - val_acc: 0.9571\n",
      "Epoch 4/50\n",
      "260/260 [==============================] - 39s 152ms/step - loss: 0.1015 - acc: 0.8885 - val_loss: 0.0406 - val_acc: 0.9571\n",
      "Epoch 5/50\n",
      "260/260 [==============================] - 39s 152ms/step - loss: 0.0969 - acc: 0.8962 - val_loss: 0.0541 - val_acc: 0.9429\n",
      "Epoch 6/50\n",
      "260/260 [==============================] - 39s 152ms/step - loss: 0.0934 - acc: 0.8962 - val_loss: 0.0473 - val_acc: 0.9571\n",
      "Epoch 7/50\n",
      "260/260 [==============================] - 40s 153ms/step - loss: 0.0905 - acc: 0.9000 - val_loss: 0.0471 - val_acc: 0.9429\n",
      "Epoch 8/50\n",
      "260/260 [==============================] - 39s 151ms/step - loss: 0.0876 - acc: 0.8962 - val_loss: 0.0569 - val_acc: 0.9286\n",
      "Epoch 9/50\n",
      "260/260 [==============================] - 40s 152ms/step - loss: 0.0832 - acc: 0.9077 - val_loss: 0.0509 - val_acc: 0.9286\n",
      "Epoch 10/50\n",
      "260/260 [==============================] - 39s 152ms/step - loss: 0.0781 - acc: 0.9077 - val_loss: 0.0594 - val_acc: 0.9429\n",
      "Epoch 11/50\n",
      "260/260 [==============================] - 39s 151ms/step - loss: 0.0738 - acc: 0.9154 - val_loss: 0.0455 - val_acc: 0.9286\n",
      "Epoch 12/50\n",
      "260/260 [==============================] - 39s 152ms/step - loss: 0.0754 - acc: 0.9077 - val_loss: 0.0582 - val_acc: 0.9143\n",
      "Epoch 13/50\n",
      "260/260 [==============================] - 39s 151ms/step - loss: 0.0655 - acc: 0.9192 - val_loss: 0.0717 - val_acc: 0.9000\n",
      "Epoch 14/50\n",
      "260/260 [==============================] - 39s 151ms/step - loss: 0.0641 - acc: 0.9269 - val_loss: 0.0648 - val_acc: 0.9286\n",
      "Epoch 15/50\n",
      "260/260 [==============================] - 39s 152ms/step - loss: 0.0588 - acc: 0.9346 - val_loss: 0.0677 - val_acc: 0.9286\n",
      "Epoch 16/50\n",
      "260/260 [==============================] - 39s 152ms/step - loss: 0.0525 - acc: 0.9385 - val_loss: 0.0799 - val_acc: 0.9143\n",
      "Epoch 17/50\n",
      "260/260 [==============================] - 39s 152ms/step - loss: 0.0458 - acc: 0.9385 - val_loss: 0.0603 - val_acc: 0.9000\n",
      "Epoch 18/50\n",
      "260/260 [==============================] - 39s 151ms/step - loss: 0.0394 - acc: 0.9500 - val_loss: 0.0754 - val_acc: 0.8857\n",
      "Epoch 19/50\n",
      "260/260 [==============================] - 39s 151ms/step - loss: 0.0390 - acc: 0.9538 - val_loss: 0.0730 - val_acc: 0.9143\n",
      "Epoch 20/50\n",
      "260/260 [==============================] - 39s 152ms/step - loss: 0.0295 - acc: 0.9577 - val_loss: 0.0732 - val_acc: 0.9000\n",
      "Epoch 21/50\n",
      "260/260 [==============================] - 40s 152ms/step - loss: 0.0176 - acc: 0.9808 - val_loss: 0.0678 - val_acc: 0.9143\n",
      "Epoch 22/50\n",
      "260/260 [==============================] - 39s 152ms/step - loss: 0.0208 - acc: 0.9769 - val_loss: 0.0988 - val_acc: 0.8714\n",
      "Epoch 23/50\n",
      "260/260 [==============================] - 39s 152ms/step - loss: 0.0151 - acc: 0.9808 - val_loss: 0.0778 - val_acc: 0.9000\n",
      "Epoch 24/50\n",
      "260/260 [==============================] - 39s 152ms/step - loss: 0.0087 - acc: 0.9885 - val_loss: 0.0678 - val_acc: 0.9000\n",
      "Epoch 25/50\n",
      "260/260 [==============================] - 39s 152ms/step - loss: 0.0044 - acc: 0.9962 - val_loss: 0.0718 - val_acc: 0.8857\n",
      "Epoch 26/50\n",
      "260/260 [==============================] - 39s 152ms/step - loss: 0.0075 - acc: 0.9885 - val_loss: 0.0569 - val_acc: 0.9286\n",
      "Epoch 27/50\n",
      "260/260 [==============================] - 39s 152ms/step - loss: 0.0019 - acc: 0.9962 - val_loss: 0.0828 - val_acc: 0.8857\n",
      "Epoch 28/50\n",
      "260/260 [==============================] - 39s 151ms/step - loss: 0.0041 - acc: 0.9962 - val_loss: 0.0648 - val_acc: 0.9143\n",
      "Epoch 29/50\n",
      "260/260 [==============================] - 39s 152ms/step - loss: 0.0044 - acc: 0.9923 - val_loss: 0.0806 - val_acc: 0.9000\n",
      "Epoch 30/50\n",
      "260/260 [==============================] - 40s 153ms/step - loss: 5.6757e-04 - acc: 1.0000 - val_loss: 0.0688 - val_acc: 0.9286\n",
      "Epoch 31/50\n",
      "260/260 [==============================] - 39s 152ms/step - loss: 0.0010 - acc: 1.0000 - val_loss: 0.0490 - val_acc: 0.9429\n",
      "Epoch 32/50\n",
      "260/260 [==============================] - 40s 152ms/step - loss: 5.9164e-04 - acc: 1.0000 - val_loss: 0.0771 - val_acc: 0.8857\n",
      "Epoch 33/50\n",
      "260/260 [==============================] - 39s 152ms/step - loss: 3.9325e-04 - acc: 1.0000 - val_loss: 0.0781 - val_acc: 0.8714\n",
      "Epoch 34/50\n",
      "260/260 [==============================] - 40s 152ms/step - loss: 5.6405e-04 - acc: 1.0000 - val_loss: 0.0817 - val_acc: 0.9000\n",
      "Epoch 35/50\n",
      "260/260 [==============================] - 39s 152ms/step - loss: 4.9943e-05 - acc: 1.0000 - val_loss: 0.0717 - val_acc: 0.9286\n",
      "Epoch 36/50\n",
      "260/260 [==============================] - 40s 152ms/step - loss: 0.0013 - acc: 0.9962 - val_loss: 0.0758 - val_acc: 0.9000\n",
      "Epoch 37/50\n",
      "260/260 [==============================] - 40s 153ms/step - loss: 3.2587e-07 - acc: 1.0000 - val_loss: 0.0799 - val_acc: 0.9143\n",
      "Epoch 38/50\n",
      "260/260 [==============================] - 39s 152ms/step - loss: 2.2740e-05 - acc: 1.0000 - val_loss: 0.0961 - val_acc: 0.9000\n",
      "Epoch 39/50\n",
      "260/260 [==============================] - 39s 152ms/step - loss: 5.2253e-06 - acc: 1.0000 - val_loss: 0.0828 - val_acc: 0.8857\n",
      "Epoch 40/50\n",
      "260/260 [==============================] - 40s 152ms/step - loss: 1.7318e-09 - acc: 1.0000 - val_loss: 0.0864 - val_acc: 0.8714\n",
      "Epoch 41/50\n",
      "260/260 [==============================] - 40s 153ms/step - loss: 5.9920e-10 - acc: 1.0000 - val_loss: 0.0888 - val_acc: 0.8857\n",
      "Epoch 42/50\n",
      "260/260 [==============================] - 40s 152ms/step - loss: 3.0955e-10 - acc: 1.0000 - val_loss: 0.0903 - val_acc: 0.9000\n",
      "Epoch 43/50\n",
      "260/260 [==============================] - 40s 152ms/step - loss: 2.3851e-10 - acc: 1.0000 - val_loss: 0.0900 - val_acc: 0.9000\n",
      "Epoch 44/50\n",
      "260/260 [==============================] - 40s 152ms/step - loss: 1.9135e-10 - acc: 1.0000 - val_loss: 0.0904 - val_acc: 0.9000\n",
      "Epoch 45/50\n",
      "260/260 [==============================] - 40s 152ms/step - loss: 1.6198e-10 - acc: 1.0000 - val_loss: 0.0907 - val_acc: 0.9000\n",
      "Epoch 46/50\n",
      "260/260 [==============================] - 40s 152ms/step - loss: 1.4332e-10 - acc: 1.0000 - val_loss: 0.0912 - val_acc: 0.9000\n",
      "Epoch 47/50\n",
      "260/260 [==============================] - 40s 153ms/step - loss: 1.2734e-10 - acc: 1.0000 - val_loss: 0.0920 - val_acc: 0.9000\n",
      "Epoch 48/50\n",
      "260/260 [==============================] - 40s 152ms/step - loss: 1.1417e-10 - acc: 1.0000 - val_loss: 0.0929 - val_acc: 0.8857\n",
      "Epoch 49/50\n",
      "260/260 [==============================] - 40s 153ms/step - loss: 1.0552e-10 - acc: 1.0000 - val_loss: 0.0929 - val_acc: 0.8857\n",
      "Epoch 50/50\n",
      "260/260 [==============================] - 40s 152ms/step - loss: 9.7024e-11 - acc: 1.0000 - val_loss: 0.0934 - val_acc: 0.8857\n"
     ]
    }
   ],
   "source": [
    "history = model.fit_generator(train_generator, epochs = 50 , validation_data = validation_generator )"
   ]
  },
  {
   "cell_type": "markdown",
   "metadata": {},
   "source": [
    "# Plot Accuracy Values On Graph"
   ]
  },
  {
   "cell_type": "code",
   "execution_count": 13,
   "metadata": {},
   "outputs": [
    {
     "data": {
      "image/png": "[encoded data removed]",
      "text/plain": [
       "<Figure size 720x360 with 1 Axes>"
      ]
     },
     "metadata": {
      "needs_background": "light"
     },
     "output_type": "display_data"
    }
   ],
   "source": [
    "pd.DataFrame(history.history).plot(figsize=(10,5))\n",
    "plt.grid(True)\n",
    "plt.gca().set_ylim(0,1.1)\n",
    "plt.show()"
   ]
  },
  {
   "cell_type": "markdown",
   "metadata": {},
   "source": [
    "model.save(\"V1model.h5\")"
   ]
  },
  {
   "cell_type": "markdown",
   "metadata": {},
   "source": [
    "# Saving and Restoring "
   ]
  },
  {
   "cell_type": "code",
   "execution_count": 14,
   "metadata": {},
   "outputs": [],
   "source": [
    "model.save(\"model_v1.h5\")\n",
    "%pwd\n",
    "del model\n",
    "keras.backend.clear_session()"
   ]
  },
  {
   "cell_type": "code",
   "execution_count": 15,
   "metadata": {},
   "outputs": [
    {
     "name": "stdout",
     "output_type": "stream",
     "text": [
      "Model: \"sequential\"\n",
      "_________________________________________________________________\n",
      "Layer (type)                 Output Shape              Param #   \n",
      "=================================================================\n",
      "conv2d (Conv2D)              (None, 148, 148, 32)      896       \n",
      "_________________________________________________________________\n",
      "max_pooling2d (MaxPooling2D) (None, 74, 74, 32)        0         \n",
      "_________________________________________________________________\n",
      "conv2d_1 (Conv2D)            (None, 72, 72, 64)        18496     \n",
      "_________________________________________________________________\n",
      "max_pooling2d_1 (MaxPooling2 (None, 36, 36, 64)        0         \n",
      "_________________________________________________________________\n",
      "conv2d_2 (Conv2D)            (None, 34, 34, 128)       73856     \n",
      "_________________________________________________________________\n",
      "max_pooling2d_2 (MaxPooling2 (None, 17, 17, 128)       0         \n",
      "_________________________________________________________________\n",
      "conv2d_3 (Conv2D)            (None, 15, 15, 128)       147584    \n",
      "_________________________________________________________________\n",
      "max_pooling2d_3 (MaxPooling2 (None, 7, 7, 128)         0         \n",
      "_________________________________________________________________\n",
      "flatten (Flatten)            (None, 6272)              0         \n",
      "_________________________________________________________________\n",
      "dense (Dense)                (None, 512)               3211776   \n",
      "_________________________________________________________________\n",
      "dense_1 (Dense)              (None, 1)                 513       \n",
      "=================================================================\n",
      "Total params: 3,453,121\n",
      "Trainable params: 3,453,121\n",
      "Non-trainable params: 0\n",
      "_________________________________________________________________\n"
     ]
    }
   ],
   "source": [
    "model = keras.models.load_model(\"model_v1.h5\")\n",
    "model.summary()"
   ]
  },
  {
   "cell_type": "code",
   "execution_count": 16,
   "metadata": {},
   "outputs": [
    {
     "name": "stdout",
     "output_type": "stream",
     "text": [
      "<keras_preprocessing.image.directory_iterator.DirectoryIterator object at 0x0000022F98951988>\n"
     ]
    }
   ],
   "source": [
    "pred = model.predict(validation_generator )\n",
    "print(validation_generator )"
   ]
  },
  {
   "cell_type": "markdown",
   "metadata": {},
   "source": [
    "# Saving Best Model"
   ]
  },
  {
   "cell_type": "code",
   "execution_count": 17,
   "metadata": {},
   "outputs": [],
   "source": [
    "del model\n",
    "keras.backend.clear_session()\n",
    "\n",
    "checkpoint_cb = keras.callbacks.ModelCheckpoint(\"early_model.h5\", save_best_only = True)\n",
    "early_stopping_cb = keras.callbacks.EarlyStopping(patience=5,restore_best_weights=True)\n"
   ]
  },
  {
   "cell_type": "code",
   "execution_count": 18,
   "metadata": {},
   "outputs": [],
   "source": [
    "model = models.Sequential()\n",
    "\n",
    "model.add(layers.Conv2D(32, (3,3), activation = 'relu', input_shape=(150,150,3)))\n",
    "model.add(layers.MaxPooling2D((2,2)))\n",
    "\n",
    "model.add(layers.Conv2D(64, (3,3), activation = 'relu'))\n",
    "model.add(layers.MaxPooling2D((2,2)))\n",
    "\n",
    "model.add(layers.Conv2D(128, (3,3), activation = 'relu'))\n",
    "model.add(layers.MaxPooling2D((2,2)))\n",
    "\n",
    "model.add(layers.Conv2D(128, (3,3), activation = 'relu'))\n",
    "model.add(layers.MaxPooling2D((2,2)))\n",
    "\n",
    "model.add(layers.Flatten())\n",
    "\n",
    "model.add(layers.Dense(512,activation='relu'))\n",
    "model.add(layers.Dense(1,activation='sigmoid'))"
   ]
  },
  {
   "cell_type": "code",
   "execution_count": 19,
   "metadata": {},
   "outputs": [],
   "source": [
    "model.compile(loss='mean_squared_error', optimizer = optimizers.RMSprop(lr=1e-4),metrics =['acc'])"
   ]
  },
  {
   "cell_type": "code",
   "execution_count": 20,
   "metadata": {},
   "outputs": [
    {
     "name": "stdout",
     "output_type": "stream",
     "text": [
      "WARNING:tensorflow:sample_weight modes were coerced from\n",
      "  ...\n",
      "    to  \n",
      "  ['...']\n",
      "WARNING:tensorflow:sample_weight modes were coerced from\n",
      "  ...\n",
      "    to  \n",
      "  ['...']\n",
      "Train for 260 steps, validate for 70 steps\n",
      "Epoch 1/100\n",
      "260/260 [==============================] - 41s 159ms/step - loss: 0.1896 - acc: 0.7654 - val_loss: 0.1549 - val_acc: 0.7143\n",
      "Epoch 2/100\n",
      "260/260 [==============================] - 40s 152ms/step - loss: 0.1355 - acc: 0.8346 - val_loss: 0.0527 - val_acc: 0.9429\n",
      "Epoch 3/100\n",
      "260/260 [==============================] - 40s 153ms/step - loss: 0.1109 - acc: 0.8731 - val_loss: 0.0734 - val_acc: 0.9286\n",
      "Epoch 4/100\n",
      "260/260 [==============================] - 40s 152ms/step - loss: 0.1034 - acc: 0.8846 - val_loss: 0.0616 - val_acc: 0.9429\n",
      "Epoch 5/100\n",
      "260/260 [==============================] - 40s 153ms/step - loss: 0.0964 - acc: 0.8769 - val_loss: 0.0631 - val_acc: 0.9429\n",
      "Epoch 6/100\n",
      "260/260 [==============================] - 40s 153ms/step - loss: 0.0928 - acc: 0.8923 - val_loss: 0.0380 - val_acc: 0.9571\n",
      "Epoch 7/100\n",
      "260/260 [==============================] - 40s 153ms/step - loss: 0.0975 - acc: 0.8846 - val_loss: 0.0459 - val_acc: 0.9571\n",
      "Epoch 8/100\n",
      "260/260 [==============================] - 40s 152ms/step - loss: 0.0894 - acc: 0.9000 - val_loss: 0.0571 - val_acc: 0.9429\n",
      "Epoch 9/100\n",
      "260/260 [==============================] - 40s 153ms/step - loss: 0.0815 - acc: 0.9115 - val_loss: 0.0484 - val_acc: 0.9429\n",
      "Epoch 10/100\n",
      "260/260 [==============================] - 40s 153ms/step - loss: 0.0815 - acc: 0.9038 - val_loss: 0.0438 - val_acc: 0.9571\n",
      "Epoch 11/100\n",
      "260/260 [==============================] - 40s 153ms/step - loss: 0.0754 - acc: 0.9154 - val_loss: 0.0550 - val_acc: 0.9429\n",
      "Epoch 12/100\n",
      "260/260 [==============================] - 40s 153ms/step - loss: 0.0755 - acc: 0.9000 - val_loss: 0.0557 - val_acc: 0.9571\n",
      "Epoch 13/100\n",
      "260/260 [==============================] - 40s 153ms/step - loss: 0.0663 - acc: 0.9231 - val_loss: 0.0452 - val_acc: 0.9429\n",
      "Epoch 14/100\n",
      "260/260 [==============================] - 40s 153ms/step - loss: 0.0600 - acc: 0.9231 - val_loss: 0.0450 - val_acc: 0.9429\n",
      "Epoch 15/100\n",
      "260/260 [==============================] - 40s 153ms/step - loss: 0.0602 - acc: 0.9231 - val_loss: 0.0722 - val_acc: 0.9000\n",
      "Epoch 16/100\n",
      "260/260 [==============================] - 40s 153ms/step - loss: 0.0498 - acc: 0.9500 - val_loss: 0.0472 - val_acc: 0.9429\n",
      "Epoch 17/100\n",
      "260/260 [==============================] - 40s 153ms/step - loss: 0.0503 - acc: 0.9385 - val_loss: 0.0587 - val_acc: 0.9143\n",
      "Epoch 18/100\n",
      "260/260 [==============================] - 40s 153ms/step - loss: 0.0372 - acc: 0.9577 - val_loss: 0.0885 - val_acc: 0.8714\n",
      "Epoch 19/100\n",
      "260/260 [==============================] - 40s 152ms/step - loss: 0.0355 - acc: 0.9577 - val_loss: 0.0669 - val_acc: 0.9143\n",
      "Epoch 20/100\n",
      "260/260 [==============================] - 40s 153ms/step - loss: 0.0315 - acc: 0.9615 - val_loss: 0.0663 - val_acc: 0.9429\n",
      "Epoch 21/100\n",
      "260/260 [==============================] - 40s 153ms/step - loss: 0.0267 - acc: 0.9692 - val_loss: 0.0870 - val_acc: 0.8857\n",
      "Epoch 22/100\n",
      "260/260 [==============================] - 40s 152ms/step - loss: 0.0252 - acc: 0.9654 - val_loss: 0.0899 - val_acc: 0.8714\n",
      "Epoch 23/100\n",
      "260/260 [==============================] - 40s 153ms/step - loss: 0.0174 - acc: 0.9846 - val_loss: 0.0568 - val_acc: 0.9286\n",
      "Epoch 24/100\n",
      "260/260 [==============================] - 40s 153ms/step - loss: 0.0212 - acc: 0.9769 - val_loss: 0.0477 - val_acc: 0.9429\n",
      "Epoch 25/100\n",
      "260/260 [==============================] - 40s 153ms/step - loss: 0.0164 - acc: 0.9808 - val_loss: 0.0668 - val_acc: 0.9286\n",
      "Epoch 26/100\n",
      "260/260 [==============================] - 40s 154ms/step - loss: 0.0167 - acc: 0.9808 - val_loss: 0.0626 - val_acc: 0.9143\n",
      "Epoch 27/100\n",
      "260/260 [==============================] - 40s 153ms/step - loss: 0.0094 - acc: 0.9923 - val_loss: 0.0899 - val_acc: 0.8857\n",
      "Epoch 28/100\n",
      "260/260 [==============================] - 40s 153ms/step - loss: 0.0118 - acc: 0.9885 - val_loss: 0.0670 - val_acc: 0.9286\n",
      "Epoch 29/100\n",
      "260/260 [==============================] - 40s 152ms/step - loss: 0.0083 - acc: 0.9923 - val_loss: 0.0903 - val_acc: 0.8857\n",
      "Epoch 30/100\n",
      "260/260 [==============================] - 40s 154ms/step - loss: 0.0115 - acc: 0.9885 - val_loss: 0.0821 - val_acc: 0.9000\n",
      "Epoch 31/100\n",
      "260/260 [==============================] - 40s 153ms/step - loss: 0.0097 - acc: 0.9885 - val_loss: 0.0757 - val_acc: 0.9143\n",
      "Epoch 32/100\n",
      "260/260 [==============================] - 40s 153ms/step - loss: 0.0084 - acc: 0.9923 - val_loss: 0.0655 - val_acc: 0.9143\n",
      "Epoch 33/100\n",
      "260/260 [==============================] - 40s 153ms/step - loss: 0.0042 - acc: 0.9962 - val_loss: 0.0699 - val_acc: 0.9286\n",
      "Epoch 34/100\n",
      "260/260 [==============================] - 40s 153ms/step - loss: 0.0089 - acc: 0.9846 - val_loss: 0.0662 - val_acc: 0.9286\n",
      "Epoch 35/100\n",
      "260/260 [==============================] - 40s 152ms/step - loss: 0.0082 - acc: 0.9923 - val_loss: 0.0566 - val_acc: 0.9286\n",
      "Epoch 36/100\n",
      "260/260 [==============================] - 40s 153ms/step - loss: 0.0076 - acc: 0.9923 - val_loss: 0.0903 - val_acc: 0.8857\n",
      "Epoch 37/100\n",
      "260/260 [==============================] - 40s 153ms/step - loss: 0.0040 - acc: 0.9962 - val_loss: 0.0558 - val_acc: 0.9286\n",
      "Epoch 38/100\n",
      "260/260 [==============================] - 40s 154ms/step - loss: 0.0039 - acc: 0.9962 - val_loss: 0.0681 - val_acc: 0.9286\n",
      "Epoch 39/100\n",
      "260/260 [==============================] - 40s 153ms/step - loss: 0.0039 - acc: 0.9962 - val_loss: 0.0859 - val_acc: 0.9000\n",
      "Epoch 40/100\n",
      "260/260 [==============================] - 40s 154ms/step - loss: 0.0039 - acc: 0.9962 - val_loss: 0.0841 - val_acc: 0.9000\n",
      "Epoch 41/100\n",
      "260/260 [==============================] - 40s 153ms/step - loss: 0.0039 - acc: 0.9962 - val_loss: 0.0894 - val_acc: 0.8714\n",
      "Epoch 42/100\n",
      "260/260 [==============================] - 40s 154ms/step - loss: 0.0038 - acc: 0.9962 - val_loss: 0.0867 - val_acc: 0.9143\n",
      "Epoch 43/100\n",
      "260/260 [==============================] - 40s 153ms/step - loss: 0.0044 - acc: 0.9962 - val_loss: 0.0865 - val_acc: 0.8857\n",
      "Epoch 44/100\n",
      "260/260 [==============================] - 40s 154ms/step - loss: 0.0038 - acc: 0.9962 - val_loss: 0.0679 - val_acc: 0.9143\n",
      "Epoch 45/100\n",
      "260/260 [==============================] - 40s 153ms/step - loss: 0.0038 - acc: 0.9962 - val_loss: 0.0549 - val_acc: 0.9429\n",
      "Epoch 46/100\n",
      "260/260 [==============================] - 40s 154ms/step - loss: 0.0038 - acc: 0.9962 - val_loss: 0.0572 - val_acc: 0.9286\n",
      "Epoch 47/100\n",
      "260/260 [==============================] - 40s 153ms/step - loss: 0.0038 - acc: 0.9962 - val_loss: 0.0589 - val_acc: 0.9286\n",
      "Epoch 48/100\n",
      "260/260 [==============================] - 40s 153ms/step - loss: 0.0038 - acc: 0.9962 - val_loss: 0.0595 - val_acc: 0.9286\n",
      "Epoch 49/100\n",
      "260/260 [==============================] - 40s 154ms/step - loss: 0.0038 - acc: 0.9962 - val_loss: 0.0605 - val_acc: 0.9286\n",
      "Epoch 50/100\n",
      "260/260 [==============================] - 40s 154ms/step - loss: 0.0038 - acc: 0.9962 - val_loss: 0.0608 - val_acc: 0.9286\n",
      "Epoch 51/100\n",
      "260/260 [==============================] - 40s 153ms/step - loss: 0.0038 - acc: 0.9962 - val_loss: 0.0612 - val_acc: 0.9286\n",
      "Epoch 52/100\n",
      "260/260 [==============================] - 40s 154ms/step - loss: 0.0038 - acc: 0.9962 - val_loss: 0.0618 - val_acc: 0.9286\n",
      "Epoch 53/100\n",
      "260/260 [==============================] - 40s 153ms/step - loss: 0.0038 - acc: 0.9962 - val_loss: 0.0623 - val_acc: 0.9286\n",
      "Epoch 54/100\n",
      "260/260 [==============================] - 40s 154ms/step - loss: 0.0038 - acc: 0.9962 - val_loss: 0.0622 - val_acc: 0.9286\n",
      "Epoch 55/100\n",
      "260/260 [==============================] - 40s 153ms/step - loss: 0.0038 - acc: 0.9962 - val_loss: 0.0629 - val_acc: 0.9286\n",
      "Epoch 56/100\n",
      "260/260 [==============================] - 40s 154ms/step - loss: 0.0038 - acc: 0.9962 - val_loss: 0.0632 - val_acc: 0.9286\n",
      "Epoch 57/100\n",
      "260/260 [==============================] - 40s 154ms/step - loss: 0.0038 - acc: 0.9962 - val_loss: 0.0634 - val_acc: 0.9286\n",
      "Epoch 58/100\n",
      "260/260 [==============================] - 40s 154ms/step - loss: 0.0038 - acc: 0.9962 - val_loss: 0.0637 - val_acc: 0.9286\n",
      "Epoch 59/100\n",
      "260/260 [==============================] - 40s 153ms/step - loss: 0.0038 - acc: 0.9962 - val_loss: 0.0637 - val_acc: 0.9286\n",
      "Epoch 60/100\n",
      "260/260 [==============================] - 40s 153ms/step - loss: 0.0038 - acc: 0.9962 - val_loss: 0.0638 - val_acc: 0.9286\n",
      "Epoch 61/100\n",
      "260/260 [==============================] - 40s 153ms/step - loss: 0.0038 - acc: 0.9962 - val_loss: 0.0638 - val_acc: 0.9286\n",
      "Epoch 62/100\n",
      "260/260 [==============================] - 40s 154ms/step - loss: 0.0038 - acc: 0.9962 - val_loss: 0.0640 - val_acc: 0.9286\n",
      "Epoch 63/100\n",
      "260/260 [==============================] - 40s 153ms/step - loss: 0.0038 - acc: 0.9962 - val_loss: 0.0641 - val_acc: 0.9286\n",
      "Epoch 64/100\n",
      "260/260 [==============================] - 40s 154ms/step - loss: 0.0038 - acc: 0.9962 - val_loss: 0.0643 - val_acc: 0.9286\n",
      "Epoch 65/100\n",
      "260/260 [==============================] - 40s 153ms/step - loss: 0.0038 - acc: 0.9962 - val_loss: 0.0645 - val_acc: 0.9286\n",
      "Epoch 66/100\n",
      "260/260 [==============================] - 40s 154ms/step - loss: 0.0038 - acc: 0.9962 - val_loss: 0.0648 - val_acc: 0.9286\n",
      "Epoch 67/100\n",
      "260/260 [==============================] - 40s 153ms/step - loss: 0.0038 - acc: 0.9962 - val_loss: 0.0648 - val_acc: 0.9286\n",
      "Epoch 68/100\n",
      "260/260 [==============================] - 40s 153ms/step - loss: 0.0038 - acc: 0.9962 - val_loss: 0.0650 - val_acc: 0.9286\n",
      "Epoch 69/100\n",
      "260/260 [==============================] - 40s 153ms/step - loss: 0.0038 - acc: 0.9962 - val_loss: 0.0653 - val_acc: 0.9286\n",
      "Epoch 70/100\n",
      "260/260 [==============================] - 40s 153ms/step - loss: 0.0038 - acc: 0.9962 - val_loss: 0.0652 - val_acc: 0.9286\n",
      "Epoch 71/100\n",
      "260/260 [==============================] - 40s 154ms/step - loss: 0.0038 - acc: 0.9962 - val_loss: 0.0654 - val_acc: 0.9286\n",
      "Epoch 72/100\n",
      "260/260 [==============================] - 40s 155ms/step - loss: 0.0038 - acc: 0.9962 - val_loss: 0.0655 - val_acc: 0.9286\n",
      "Epoch 73/100\n",
      "260/260 [==============================] - 40s 153ms/step - loss: 0.0038 - acc: 0.9962 - val_loss: 0.0655 - val_acc: 0.9286\n",
      "Epoch 74/100\n",
      "260/260 [==============================] - 40s 153ms/step - loss: 0.0038 - acc: 0.9962 - val_loss: 0.0655 - val_acc: 0.9286\n",
      "Epoch 75/100\n",
      "260/260 [==============================] - 40s 153ms/step - loss: 0.0038 - acc: 0.9962 - val_loss: 0.0656 - val_acc: 0.9286\n",
      "Epoch 76/100\n",
      "260/260 [==============================] - 40s 154ms/step - loss: 0.0038 - acc: 0.9962 - val_loss: 0.0656 - val_acc: 0.9286\n",
      "Epoch 77/100\n",
      "260/260 [==============================] - 40s 153ms/step - loss: 0.0038 - acc: 0.9962 - val_loss: 0.0658 - val_acc: 0.9286\n",
      "Epoch 78/100\n",
      "260/260 [==============================] - 40s 154ms/step - loss: 0.0038 - acc: 0.9962 - val_loss: 0.0659 - val_acc: 0.9286\n",
      "Epoch 79/100\n",
      "260/260 [==============================] - 40s 153ms/step - loss: 0.0038 - acc: 0.9962 - val_loss: 0.0660 - val_acc: 0.9286\n",
      "Epoch 80/100\n",
      "260/260 [==============================] - 40s 154ms/step - loss: 0.0038 - acc: 0.9962 - val_loss: 0.0661 - val_acc: 0.9286\n",
      "Epoch 81/100\n",
      "260/260 [==============================] - 40s 153ms/step - loss: 0.0038 - acc: 0.9962 - val_loss: 0.0662 - val_acc: 0.9286\n",
      "Epoch 82/100\n",
      "260/260 [==============================] - 40s 154ms/step - loss: 0.0038 - acc: 0.9962 - val_loss: 0.0662 - val_acc: 0.9286\n",
      "Epoch 83/100\n",
      "260/260 [==============================] - 40s 153ms/step - loss: 0.0038 - acc: 0.9962 - val_loss: 0.0663 - val_acc: 0.9286\n",
      "Epoch 84/100\n",
      "260/260 [==============================] - 40s 153ms/step - loss: 0.0038 - acc: 0.9962 - val_loss: 0.0664 - val_acc: 0.9286\n",
      "Epoch 85/100\n",
      "260/260 [==============================] - 40s 154ms/step - loss: 0.0038 - acc: 0.9962 - val_loss: 0.0664 - val_acc: 0.9286\n",
      "Epoch 86/100\n",
      "260/260 [==============================] - 40s 154ms/step - loss: 0.0038 - acc: 0.9962 - val_loss: 0.0663 - val_acc: 0.9286\n",
      "Epoch 87/100\n",
      "260/260 [==============================] - 40s 154ms/step - loss: 0.0038 - acc: 0.9962 - val_loss: 0.0664 - val_acc: 0.9286\n",
      "Epoch 88/100\n",
      "260/260 [==============================] - 40s 154ms/step - loss: 0.0038 - acc: 0.9962 - val_loss: 0.0664 - val_acc: 0.9286\n",
      "Epoch 89/100\n",
      "260/260 [==============================] - 40s 154ms/step - loss: 0.0038 - acc: 0.9962 - val_loss: 0.0665 - val_acc: 0.9286\n",
      "Epoch 90/100\n",
      "260/260 [==============================] - 40s 154ms/step - loss: 0.0038 - acc: 0.9962 - val_loss: 0.0665 - val_acc: 0.9286\n",
      "Epoch 91/100\n",
      "260/260 [==============================] - 40s 154ms/step - loss: 0.0038 - acc: 0.9962 - val_loss: 0.0665 - val_acc: 0.9286\n",
      "Epoch 92/100\n",
      "260/260 [==============================] - 40s 154ms/step - loss: 0.0038 - acc: 0.9962 - val_loss: 0.0666 - val_acc: 0.9286\n",
      "Epoch 93/100\n",
      "260/260 [==============================] - 40s 154ms/step - loss: 0.0038 - acc: 0.9962 - val_loss: 0.0667 - val_acc: 0.9286\n",
      "Epoch 94/100\n",
      "260/260 [==============================] - 40s 155ms/step - loss: 0.0038 - acc: 0.9962 - val_loss: 0.0667 - val_acc: 0.9286\n",
      "Epoch 95/100\n",
      "260/260 [==============================] - 40s 154ms/step - loss: 0.0038 - acc: 0.9962 - val_loss: 0.0668 - val_acc: 0.9286\n",
      "Epoch 96/100\n",
      "260/260 [==============================] - 40s 154ms/step - loss: 0.0038 - acc: 0.9962 - val_loss: 0.0668 - val_acc: 0.9286\n",
      "Epoch 97/100\n",
      "260/260 [==============================] - 40s 154ms/step - loss: 0.0038 - acc: 0.9962 - val_loss: 0.0668 - val_acc: 0.9286\n",
      "Epoch 98/100\n",
      "260/260 [==============================] - 40s 154ms/step - loss: 0.0038 - acc: 0.9962 - val_loss: 0.0668 - val_acc: 0.9286\n",
      "Epoch 99/100\n",
      "260/260 [==============================] - 40s 154ms/step - loss: 0.0038 - acc: 0.9962 - val_loss: 0.0669 - val_acc: 0.9286\n",
      "Epoch 100/100\n",
      "260/260 [==============================] - 39s 151ms/step - loss: 0.0038 - acc: 0.9962 - val_loss: 0.0669 - val_acc: 0.9286\n"
     ]
    }
   ],
   "source": [
    "history = model.fit_generator(train_generator, epochs = 100 , validation_data = validation_generator,callbacks = [checkpoint_cb] )"
   ]
  },
  {
   "cell_type": "code",
   "execution_count": 21,
   "metadata": {},
   "outputs": [
    {
     "name": "stdout",
     "output_type": "stream",
     "text": [
      "WARNING:tensorflow:sample_weight modes were coerced from\n",
      "  ...\n",
      "    to  \n",
      "  ['...']\n",
      "70/70 [==============================] - 2s 27ms/step - loss: 0.0380 - acc: 0.9571\n"
     ]
    }
   ],
   "source": [
    "model = keras.models.load_model(\"early_model.h5\")\n",
    "mse_test = model.evaluate(validation_generator)"
   ]
  },
  {
   "cell_type": "code",
   "execution_count": null,
   "metadata": {},
   "outputs": [],
   "source": []
  }
 ],
 "metadata": {
  "kernelspec": {
   "display_name": "Python 3 (ipykernel)",
   "language": "python",
   "name": "python3"
  },
  "language_info": {
   "codemirror_mode": {
    "name": "ipython",
    "version": 3
   },
   "file_extension": ".py",
   "mimetype": "text/x-python",
   "name": "python",
   "nbconvert_exporter": "python",
   "pygments_lexer": "ipython3",
   "version": "3.9.13"
  }
 },
 "nbformat": 4,
 "nbformat_minor": 2
}
